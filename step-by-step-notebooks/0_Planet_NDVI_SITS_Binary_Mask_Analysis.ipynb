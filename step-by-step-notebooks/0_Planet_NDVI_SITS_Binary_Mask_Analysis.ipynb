{
 "cells": [
  {
   "cell_type": "markdown",
   "metadata": {},
   "source": [
    "# Visualization Tool for Planet Imagery to QAQC & Analyze NDVI SITS\n",
    "## Binary Mask Visualizer Isolated"
   ]
  },
  {
   "cell_type": "markdown",
   "metadata": {},
   "source": [
    "This notebooks focuses on providing the tools necessary to QAQC Planet imagery and to visualization the changes in NDVI over a set or subset of images for a given Area of Interest (AOI). The intention is to be able to determine if a given AOI is increasing or decreasing in vegetation (i.e. greenness) and the general hotspots this may or may not be occurring. This notebook is intended to be used with other preprocessing tools and assumes that the user has a single directory containing analysis-ready NDVI rasters (i.e. single-band -1 to 1 *.tiffs)."
   ]
  },
  {
   "cell_type": "markdown",
   "metadata": {},
   "source": [
    "### This notebook is only for deriving binary thresholding masks of NDVI and evaluating the associated thresholding algorithms."
   ]
  },
  {
   "cell_type": "markdown",
   "metadata": {},
   "source": [
    "#### Import Libary Setup"
   ]
  },
  {
   "cell_type": "markdown",
   "metadata": {},
   "source": [
    "The libraries below must be installed in the Anaconda environment that the user is running this notebook from."
   ]
  },
  {
   "cell_type": "code",
   "execution_count": null,
   "metadata": {},
   "outputs": [],
   "source": [
    "# Imported Python standard libraries\n",
    "import os\n",
    "import sys\n",
    "import datetime\n",
    "from functools import partial\n",
    "# Imported Python data manipulation libraries\n",
    "import numpy as np\n",
    "import rasterio\n",
    "from skimage.filters import (threshold_minimum, threshold_li, threshold_isodata,\n",
    "                             threshold_mean, threshold_otsu, try_all_threshold)\n",
    "# Imported Python visualization libraries\n",
    "import matplotlib\n",
    "import matplotlib.pyplot as plt\n",
    "import ipywidgets as widgets\n",
    "from ipywidgets import HBox, Label\n",
    "from IPython.display import display, clear_output"
   ]
  },
  {
   "cell_type": "markdown",
   "metadata": {},
   "source": [
    "#### User Provided Inputs Setup"
   ]
  },
  {
   "cell_type": "markdown",
   "metadata": {},
   "source": [
    "Please specify the input folder directory containing all the Planet imagery to be analyzed as NDVI rasters. The absolute folder pathname is recommended along with the use of r\" \" to reverse the \"\\\\\" to \"/\" automatically."
   ]
  },
  {
   "cell_type": "code",
   "execution_count": null,
   "metadata": {},
   "outputs": [],
   "source": [
    "# input folder directory\n",
    "planet_input_dir = r\"C:\\Users\\zleady\\Desktop\\ST_1867\\LC\\lcr_active_20200621\\poh_final_NDVI\""
   ]
  },
  {
   "cell_type": "code",
   "execution_count": null,
   "metadata": {},
   "outputs": [],
   "source": [
    "def CreateImgPathList(img_folder):\n",
    "    \"\"\" Creates a Python List of Image Pathnames\n",
    "    \"\"\"\n",
    "    img_path_lst = [os.path.join(img_folder, f) \n",
    "                    for f in os.listdir(img_folder)\n",
    "                    if f.endswith(\".tif\")]\n",
    "    return img_path_lst"
   ]
  },
  {
   "cell_type": "markdown",
   "metadata": {},
   "source": [
    "Invoke the CreateImgPathList function on the planet_input_dir.  \n",
    "Displays to the user the first and last image/raster pathname and the total number of rasters in the list."
   ]
  },
  {
   "cell_type": "code",
   "execution_count": null,
   "metadata": {},
   "outputs": [],
   "source": [
    "planet_img_path_lst = CreateImgPathList(planet_input_dir)\n",
    "# Display output checks\n",
    "print(\"First Pathname: \", planet_img_path_lst[0])\n",
    "print(\"Last Pathname: \", planet_img_path_lst[-1])\n",
    "print(\"Total Number of Pathnames: \", len(planet_img_path_lst))"
   ]
  },
  {
   "cell_type": "markdown",
   "metadata": {},
   "source": [
    "### Analysis of NDVI Images for Binary Mask Creation"
   ]
  },
  {
   "cell_type": "markdown",
   "metadata": {},
   "source": [
    "#### Read in NDVI Image Data"
   ]
  },
  {
   "cell_type": "markdown",
   "metadata": {},
   "source": [
    "Read-in the NDVI images/rasters into a Python dictionary called \"ndvi_img_dict\". Each image has a date key in the format \"YYYYMMDD\", which is paired to another dictionary containing the keys \"path\", \"original_array\", \"histo_array\", and \"display_array\". The histo_array is modified to not contain any NaN's which are used for pixels with missing data by numpy when the image is read into a numpy array via the rasterio library. The display_array converts the NaN's into 0 for easier displaying with the matplotlib libraries \"imshow()\" function. This code block also ensures that each image is the same number of pixels on the x-axis and y-axis and filters images into the incorrect_shape_lst that are not the same shape."
   ]
  },
  {
   "cell_type": "code",
   "execution_count": null,
   "metadata": {},
   "outputs": [],
   "source": [
    "# initialize image dictionary\n",
    "ndvi_img_dict = {}\n",
    "# initialize list for images with the wrong shape\n",
    "incorrect_shape_lst = []"
   ]
  },
  {
   "cell_type": "code",
   "execution_count": null,
   "metadata": {},
   "outputs": [],
   "source": [
    "for p in planet_img_path_lst:    \n",
    "    with rasterio.open(p) as ds:\n",
    "        temp_arr = ds.read(1)\n",
    "        temp_dict = {\"path\": p,\n",
    "                     \"original_array\": temp_arr,\n",
    "                     \"histo_array\": temp_arr[~np.isnan(temp_arr)],\n",
    "                     \"display_array\": np.nan_to_num(temp_arr)}\n",
    "        date_id = os.path.basename(p).split(\"_\")[0]\n",
    "        if p == planet_img_path_lst[0]:\n",
    "            x0_shape = temp_arr.shape[0]\n",
    "            y0_shape = temp_arr.shape[1]\n",
    "            print(\"First x0_shape: {}, y0_shape: {}\".format(x0_shape, y0_shape))\n",
    "        if temp_arr.shape[0] == x0_shape and temp_arr.shape[1] == y0_shape:\n",
    "            ndvi_img_dict[date_id] = temp_dict\n",
    "        else:\n",
    "            incorrect_shape_lst.append([date_id, temp_arr.shape])\n",
    "    ds.close()"
   ]
  },
  {
   "cell_type": "code",
   "execution_count": null,
   "metadata": {},
   "outputs": [],
   "source": [
    "img_key_lst = list(ndvi_img_dict.keys())\n",
    "print(\"Images found to have an inconsistent shape [date, (array shape)]: \")\n",
    "print(incorrect_shape_lst)\n",
    "print(\"Started with {} Pathnames\".format(len(planet_img_path_lst)))\n",
    "print(\"Added {} to NDVI Image Dictionary\".format(len(img_key_lst)))\n",
    "print(\"Check that each image key has 4 keys: \",\n",
    "      ndvi_img_dict.get(\"{}\".format(img_key_lst[0])).keys())"
   ]
  },
  {
   "cell_type": "markdown",
   "metadata": {},
   "source": [
    "### Establish Binary Thresholding Method and Array Data"
   ]
  },
  {
   "cell_type": "markdown",
   "metadata": {},
   "source": [
    "An NDVI image is a \"derived\" band and ranges between -1 to 1 with 1 signifying high vegetation or \"greenness\". Binary thresholding methods (algorithms) can be used to determine a seperation from vegetation and everything else. This is not the primary goal of NDVI tracking but can serve as a good QAQC check for creating a boundary around what might be an actual change in NDVI vs. a spurious or insignificant change in NDVI. Thus the binary threshold array should be viewed as a loose boundary of what to focus on versus the rest of the image."
   ]
  },
  {
   "cell_type": "code",
   "execution_count": null,
   "metadata": {
    "scrolled": true
   },
   "outputs": [],
   "source": [
    "# dictionary of binary threshold functions bound to string identifiers\n",
    "# useful for looping functions\n",
    "threshold_dict = {\"iso\": threshold_isodata, \"li\": threshold_li,\n",
    "                  \"mean\": threshold_mean, \"otsu\": threshold_otsu,\n",
    "                  \"min\": threshold_minimum}\n",
    "# initialize list for dates that binary thresholding failed on for data/algo reasons\n",
    "failed_threshold_lst = []\n",
    "\n",
    "# binary thresholding loop\n",
    "print(\"Starting thresholding loop\")\n",
    "for date in list(ndvi_img_dict.keys()):\n",
    "    temp_arr = ndvi_img_dict.get(date).get(\"histo_array\")\n",
    "    print(\"Processing: {}\".format(date))\n",
    "    try:\n",
    "        for k in list(threshold_dict.keys()):\n",
    "            temp_threshold_val = threshold_dict.get(k)(temp_arr)\n",
    "            temp_binary_array = ndvi_img_dict.get(date).get(\"display_array\") > temp_threshold_val\n",
    "            ndvi_img_dict.get(date)[\"{}_value\".format(k)] = temp_threshold_val\n",
    "            ndvi_img_dict.get(date)[\"{}_binary_array\".format(k)] = temp_binary_array\n",
    "    except:\n",
    "        failed_threshold_lst.append([date])\n",
    "        del ndvi_img_dict[date]\n",
    "print(\"Finished\")"
   ]
  },
  {
   "cell_type": "code",
   "execution_count": null,
   "metadata": {},
   "outputs": [],
   "source": [
    "print(\"Failed to threshold the following dates: \")\n",
    "print(failed_threshold_lst)\n",
    "print(\"Started with {} number of images for thresholding\".format(len(img_key_lst)))\n",
    "print(\"Thresholded {0} images. {0} images available for analysis.\".format(len(list(ndvi_img_dict.keys()))))\n",
    "print(\"\\n\")\n",
    "print(\"Check the new keys for each image: \")\n",
    "print(ndvi_img_dict.get(\"{}\".format(list(ndvi_img_dict.keys())[0])).keys())"
   ]
  },
  {
   "cell_type": "markdown",
   "metadata": {},
   "source": [
    "### Visually Compare Thresholding Method Performance"
   ]
  },
  {
   "cell_type": "markdown",
   "metadata": {},
   "source": [
    "Each Binary Thresholding Method (algorithm) works in a slightly different way to automatically determine the seperation on the NDVI image histogram for vegetation and non-vegetation. The function and visualizer below allow the user to determine over there set or subset of images which thresholding method to use; typically, depending on how conservative the user chooses to be."
   ]
  },
  {
   "cell_type": "code",
   "execution_count": null,
   "metadata": {},
   "outputs": [],
   "source": [
    "def show_compare_thresholds(img_dict):\n",
    "    \"\"\" Plotting function for binary threshold comparison\n",
    "    \"\"\"\n",
    "    global threshold_dict # remove in the future, a shortcut for ipywidgets observer\n",
    "    plt.figure(figsize=(24, 48))\n",
    "    plt.subplot(6, 2, 1)\n",
    "    plt.imshow(img_dict.get(\"display_array\"), cmap=plt.cm.gray)\n",
    "    plt.title(\"Original NDVI Image\")\n",
    "    plt.subplot(6, 2, 2)\n",
    "    plt.hist(img_dict.get(\"histo_array\"), bins=256)\n",
    "    plt.title(\"Original NDVI Histogram\")\n",
    "    subplot_spacer = 2\n",
    "    for indx, k in enumerate(list(threshold_dict.keys())):\n",
    "        plt.subplot(6, 2, indx+1+subplot_spacer)\n",
    "        plt.imshow(img_dict.get(\"{}_binary_array\".format(k)), cmap=plt.cm.gray)\n",
    "        plt.title('{} Binary NDVI Image'.format(k.upper()))\n",
    "        plt.subplot(6, 2, indx+2+subplot_spacer)\n",
    "        plt.hist(img_dict.get(\"histo_array\"), bins=256)\n",
    "        plt.axvline(img_dict.get(\"{}_value\".format(k)), color=\"r\")\n",
    "        plt.title(\"{} Thresholded Histogram Value={}\".format(k.upper(), round(float(img_dict.get(\"{}_value\".format(k))), 4)))\n",
    "        subplot_spacer += 1\n",
    "    plt.show()"
   ]
  },
  {
   "cell_type": "markdown",
   "metadata": {},
   "source": [
    "A Visualizer for the Binary Threshold Comparison using ipywidgets. Change the dropdown menu date to check different images."
   ]
  },
  {
   "cell_type": "code",
   "execution_count": null,
   "metadata": {
    "scrolled": false
   },
   "outputs": [],
   "source": [
    "threshold_date_options_lst = sorted(list(ndvi_img_dict.keys()))\n",
    "threshold_date_dropdown = widgets.Dropdown(options=threshold_date_options_lst,\n",
    "                                           value=threshold_date_options_lst[0],\n",
    "                                           description='Image Date:',)\n",
    "\n",
    "\n",
    "def threshold_date_on_change(change):\n",
    "    if change['type'] == 'change' and change['name'] == 'value':\n",
    "        clear_output()\n",
    "        display(threshold_date_dropdown)\n",
    "        print(change['old'], change['new'])\n",
    "        show_compare_thresholds(ndvi_img_dict.get(\"{}\".format(change['new'])))\n",
    "\n",
    "threshold_date_dropdown.observe(threshold_date_on_change)\n",
    "display(threshold_date_dropdown)"
   ]
  },
  {
   "cell_type": "markdown",
   "metadata": {},
   "source": [
    "#### If a user is unsure on the binary thresholding algorithm choice OTSU is the literature default.  \n",
    "#### Zack's personal recommendation is normally threshold_minimum (\"min\") as a much more conservative default."
   ]
  },
  {
   "cell_type": "markdown",
   "metadata": {},
   "source": [
    "Please set a binary thresholding algorithm below."
   ]
  },
  {
   "cell_type": "code",
   "execution_count": null,
   "metadata": {},
   "outputs": [],
   "source": [
    "# options\n",
    "print(threshold_dict.keys())"
   ]
  },
  {
   "cell_type": "code",
   "execution_count": null,
   "metadata": {},
   "outputs": [],
   "source": [
    "# choosen binary thresholding algorithm\n",
    "binary_algo = \"otsu\""
   ]
  },
  {
   "cell_type": "markdown",
   "metadata": {},
   "source": [
    "### Export Binary Thresholded NDVI Imagery"
   ]
  },
  {
   "cell_type": "markdown",
   "metadata": {},
   "source": [
    "The following cells export the binary thresholded NDVI images as \"*.tif\" rasters using their original NDVI metadata.\n",
    "  \n",
    "The user can view the rasters in their preferred GIS program (i.e. ArcGIS, QGIS, etc.)  \n",
    "OR  \n",
    "the rasters can be read by a Python library such as rasterio back into numpy arrays."
   ]
  },
  {
   "cell_type": "code",
   "execution_count": null,
   "metadata": {},
   "outputs": [],
   "source": [
    "output_dir = os.path.join(os.path.dirname(planet_input_dir), \"poh_final_NDVI_Binary_{}\".format(binary_algo.upper()))\n",
    "if not os.path.exists(output_dir):\n",
    "    os.mkdir(output_dir)\n",
    "print(\"All binary rasters will be written too: \")\n",
    "print(output_dir)"
   ]
  },
  {
   "cell_type": "code",
   "execution_count": null,
   "metadata": {
    "scrolled": true
   },
   "outputs": [],
   "source": [
    "for date in list(ndvi_img_dict.keys()):\n",
    "    retrieve_path = ndvi_img_dict.get(date).get(\"path\")\n",
    "    assert os.path.exists(retrieve_path)\n",
    "    with rasterio.open(retrieve_path) as orig_dst:\n",
    "        kwargs = orig_dst.meta\n",
    "        kwargs.update(dtype=rasterio.float32, count=1)        \n",
    "        output_path = os.path.join(output_dir,\n",
    "                                   \"{}_binary_{}.tif\".format(date, binary_algo))\n",
    "        with rasterio.open(output_path, 'w', **kwargs) as dst:\n",
    "            dst.write_band(1, ndvi_img_dict.get(date).get(\"{}_binary_array\".format(binary_algo)).astype(rasterio.float32))\n",
    "    print(\"Wrote {} binary array using {} algo\".format(date, binary_algo))"
   ]
  },
  {
   "cell_type": "markdown",
   "metadata": {},
   "source": [
    "En Fin."
   ]
  }
 ],
 "metadata": {
  "kernelspec": {
   "display_name": "Python 3",
   "language": "python",
   "name": "python3"
  },
  "language_info": {
   "codemirror_mode": {
    "name": "ipython",
    "version": 3
   },
   "file_extension": ".py",
   "mimetype": "text/x-python",
   "name": "python",
   "nbconvert_exporter": "python",
   "pygments_lexer": "ipython3",
   "version": "3.7.4"
  }
 },
 "nbformat": 4,
 "nbformat_minor": 2
}
